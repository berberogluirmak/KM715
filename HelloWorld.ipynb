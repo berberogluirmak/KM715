{
  "nbformat": 4,
  "nbformat_minor": 0,
  "metadata": {
    "colab": {
      "name": "Untitled0.ipynb",
      "provenance": [],
      "authorship_tag": "ABX9TyPQBAw4Ysb5pv8ibX9NiI9K",
      "include_colab_link": true
    },
    "kernelspec": {
      "name": "python3",
      "display_name": "Python 3"
    }
  },
  "cells": [
    {
      "cell_type": "markdown",
      "metadata": {
        "id": "view-in-github",
        "colab_type": "text"
      },
      "source": [
        "<a href=\"https://colab.research.google.com/github/berberogluirmak/KM715/blob/main/HelloWorld.ipynb\" target=\"_parent\"><img src=\"https://colab.research.google.com/assets/colab-badge.svg\" alt=\"Open In Colab\"/></a>"
      ]
    },
    {
      "cell_type": "markdown",
      "metadata": {
        "id": "2Iu9Po5srpBo"
      },
      "source": [
        "21.11.2020\n",
        "bugün python öğreniyorum\n"
      ]
    },
    {
      "cell_type": "code",
      "metadata": {
        "colab": {
          "base_uri": "https://localhost:8080/"
        },
        "id": "YS02trH0syf4",
        "outputId": "922fd9d8-9cdf-4587-de5a-d25d70a6dd93"
      },
      "source": [
        "print(\"merhaba\")"
      ],
      "execution_count": 2,
      "outputs": [
        {
          "output_type": "stream",
          "text": [
            "merhaba\n"
          ],
          "name": "stdout"
        }
      ]
    },
    {
      "cell_type": "code",
      "metadata": {
        "colab": {
          "base_uri": "https://localhost:8080/"
        },
        "id": "LhNt451ntGPt",
        "outputId": "effa88d4-f411-4d6a-c7e6-e82836d6b7da"
      },
      "source": [
        "print(\"teşekkürler\")"
      ],
      "execution_count": 3,
      "outputs": [
        {
          "output_type": "stream",
          "text": [
            "teşekkürler\n"
          ],
          "name": "stdout"
        }
      ]
    },
    {
      "cell_type": "code",
      "metadata": {
        "colab": {
          "base_uri": "https://localhost:8080/"
        },
        "id": "dL8md4tgtJdh",
        "outputId": "6c447f38-e91b-4cfd-d3be-2136a408f5ee"
      },
      "source": [
        "print(\"merhaba\",\"teşekkürler\",sep=\"\\n\")"
      ],
      "execution_count": 6,
      "outputs": [
        {
          "output_type": "stream",
          "text": [
            "merhaba\n",
            "teşekkürler\n"
          ],
          "name": "stdout"
        }
      ]
    },
    {
      "cell_type": "code",
      "metadata": {
        "colab": {
          "base_uri": "https://localhost:8080/"
        },
        "id": "uHmyH5OBte6P",
        "outputId": "eb403d5d-1adb-4ce4-8364-7cad08c58143"
      },
      "source": [
        "print(\"Adın ne?\",\"Uğurcan\",sep=\"\\n\")"
      ],
      "execution_count": 8,
      "outputs": [
        {
          "output_type": "stream",
          "text": [
            "Adın ne?\n",
            "Uğurcan\n"
          ],
          "name": "stdout"
        }
      ]
    },
    {
      "cell_type": "code",
      "metadata": {
        "colab": {
          "base_uri": "https://localhost:8080/"
        },
        "id": "FYV3_3KQukcB",
        "outputId": "f167118b-316d-40b1-8414-6b73b0850ea6"
      },
      "source": [
        "isim=input(\"Adın ne?\")\n",
        "print(\"Merhaba\",isim)"
      ],
      "execution_count": 11,
      "outputs": [
        {
          "output_type": "stream",
          "text": [
            "Adın ne?Irmak\n",
            "Merhaba Irmak\n"
          ],
          "name": "stdout"
        }
      ]
    }
  ]
}